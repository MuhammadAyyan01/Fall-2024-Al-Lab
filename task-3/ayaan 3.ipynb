{
 "cells": [
  {
   "cell_type": "code",
   "execution_count": 2,
   "id": "1b89da95",
   "metadata": {},
   "outputs": [
    {
     "name": "stdout",
     "output_type": "stream",
     "text": [
      "Heater Agent Simulation \n",
      "\n",
      "Temperature: 18°C  -->  Turn Heater ON\n",
      "Temperature: 19°C  -->  No Action (same as before)\n",
      "Temperature: 21°C  -->  Keep Same State\n",
      "Temperature: 23°C  -->  No Action (same as before)\n",
      "Temperature: 27°C  -->  Turn Heater OFF\n",
      "Temperature: 26°C  -->  No Action (same as before)\n",
      "Temperature: 19°C  -->  Turn Heater ON\n",
      "Temperature: 18°C  -->  No Action (same as before)\n",
      "\n",
      "Example Run Output\n",
      "Temperature: 18°C  -->  Turn Heater ON\n",
      "Temperature: 19°C  -->  No Action (same as before)\n",
      "Temperature: 21°C  -->  Turn Heater OFF\n",
      "Temperature: 23°C  -->  No Action (same as before)\n",
      "Temperature: 27°C  -->  No Action (same as before)\n",
      "Temperature: 26°C  -->  No Action (same as before)\n",
      "Temperature: 19°C  -->  Turn Heater ON\n",
      "Temperature: 18°C  -->  No Action (same as before)\n"
     ]
    }
   ],
   "source": [
    "class HeaterAgent:\n",
    "    def __init__(self):\n",
    "        self.previous_action = None\n",
    "\n",
    "    def check_temperature(self, temp):\n",
    "        if temp < 20:\n",
    "            action = \"Turn Heater ON\"\n",
    "        elif temp > 25:\n",
    "            action = \"Turn Heater OFF\"\n",
    "        else:\n",
    "            action = \"Keep Same State\"\n",
    "\n",
    "        if action == self.previous_action:\n",
    "            return \"No Action (same as before)\"\n",
    "        else:\n",
    "            self.previous_action = action\n",
    "            return action\n",
    "\n",
    "\n",
    "agent = HeaterAgent()\n",
    "temperature_readings = [18, 19, 21, 23, 27, 26, 19, 18]\n",
    "\n",
    "print(\"Heater Agent Simulation \\n\")\n",
    "for t in temperature_readings:\n",
    "    print(f\"Temperature: {t}°C  -->  {agent.check_temperature(t)}\")\n",
    "\n",
    "print(\"\\nExample Run Output\")\n",
    "print(\"Temperature: 18°C  -->  Turn Heater ON\")\n",
    "print(\"Temperature: 19°C  -->  No Action (same as before)\")\n",
    "print(\"Temperature: 21°C  -->  Turn Heater OFF\")\n",
    "print(\"Temperature: 23°C  -->  No Action (same as before)\")\n",
    "print(\"Temperature: 27°C  -->  No Action (same as before)\")\n",
    "print(\"Temperature: 26°C  -->  No Action (same as before)\")\n",
    "print(\"Temperature: 19°C  -->  Turn Heater ON\")\n",
    "print(\"Temperature: 18°C  -->  No Action (same as before)\")\n"
   ]
  }
 ],
 "metadata": {
  "kernelspec": {
   "display_name": "base",
   "language": "python",
   "name": "python3"
  },
  "language_info": {
   "codemirror_mode": {
    "name": "ipython",
    "version": 3
   },
   "file_extension": ".py",
   "mimetype": "text/x-python",
   "name": "python",
   "nbconvert_exporter": "python",
   "pygments_lexer": "ipython3",
   "version": "3.12.7"
  }
 },
 "nbformat": 4,
 "nbformat_minor": 5
}
