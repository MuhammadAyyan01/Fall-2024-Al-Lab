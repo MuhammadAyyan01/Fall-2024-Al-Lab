{
 "cells": [
  {
   "cell_type": "code",
   "execution_count": 2,
   "id": "c7dec2c3",
   "metadata": {},
   "outputs": [
    {
     "name": "stdout",
     "output_type": "stream",
     "text": [
      "DFS Traversal Output:\n",
      "A B D E C "
     ]
    }
   ],
   "source": [
    "graph = {\n",
    "    \"A\": [\"B\", \"C\"],\n",
    "    \"B\": [\"D\", \"E\"],\n",
    "    \"C\": [\"E\"],\n",
    "    \"D\": [],\n",
    "    \"E\": []\n",
    "}\n",
    "\n",
    "def dfs_with_stack(start):\n",
    "    visited_nodes = set()\n",
    "    stack_list = [start]\n",
    "\n",
    "    while stack_list:\n",
    "        current_node = stack_list.pop()\n",
    "        if current_node not in visited_nodes:\n",
    "            print(current_node, end=\" \")\n",
    "            visited_nodes.add(current_node)\n",
    "            for child in reversed(graph[current_node]):\n",
    "                if child not in visited_nodes:\n",
    "                    stack_list.append(child)\n",
    "\n",
    "\n",
    "print(\"DFS Traversal Output:\")\n",
    "dfs_with_stack(\"A\")\n"
   ]
  }
 ],
 "metadata": {
  "kernelspec": {
   "display_name": "base",
   "language": "python",
   "name": "python3"
  },
  "language_info": {
   "codemirror_mode": {
    "name": "ipython",
    "version": 3
   },
   "file_extension": ".py",
   "mimetype": "text/x-python",
   "name": "python",
   "nbconvert_exporter": "python",
   "pygments_lexer": "ipython3",
   "version": "3.12.7"
  }
 },
 "nbformat": 4,
 "nbformat_minor": 5
}
