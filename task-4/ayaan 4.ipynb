{
 "cells": [
  {
   "cell_type": "markdown",
   "id": "9b5b67ec",
   "metadata": {},
   "source": [
    "# luhn algorithm"
   ]
  },
  {
   "cell_type": "code",
   "execution_count": 1,
   "id": "2860edfc",
   "metadata": {},
   "outputs": [
    {
     "name": "stdout",
     "output_type": "stream",
     "text": [
      "Valid\n"
     ]
    }
   ],
   "source": [
    "def luhn_check(card_number):\n",
    "    digits = [int(d) for d in str(card_number)]\n",
    "    checksum = 0\n",
    "    reverse_digits = digits[::-1]\n",
    "\n",
    "    for i, d in enumerate(reverse_digits):\n",
    "        if i % 2 == 1:\n",
    "            d *= 2\n",
    "            if d > 9:\n",
    "                d -= 9\n",
    "        checksum += d\n",
    "\n",
    "    return checksum % 10 == 0\n",
    "\n",
    "\n",
    "card = \"4532015112830366\"\n",
    "print(\"Valid\" if luhn_check(card) else \"Invalid\")\n"
   ]
  },
  {
   "cell_type": "markdown",
   "id": "aec33d2e",
   "metadata": {},
   "source": [
    "# question 1"
   ]
  },
  {
   "cell_type": "code",
   "execution_count": 2,
   "id": "7da94f82",
   "metadata": {},
   "outputs": [
    {
     "name": "stdout",
     "output_type": "stream",
     "text": [
      "Original: Hello, ayaan ! How's everything going?\n",
      "Without Punctuations: Hello ayaan  Hows everything going\n"
     ]
    }
   ],
   "source": [
    "import string\n",
    "\n",
    "text = \"Hello, ayaan ! How's everything going?\"\n",
    "cleaned = \"\".join(ch for ch in text if ch not in string.punctuation)\n",
    "\n",
    "print(\"Original:\", text)\n",
    "print(\"Without Punctuations:\", cleaned)\n"
   ]
  },
  {
   "cell_type": "markdown",
   "id": "9140f417",
   "metadata": {},
   "source": [
    "# question 2"
   ]
  },
  {
   "cell_type": "code",
   "execution_count": 3,
   "id": "6e9f17b2",
   "metadata": {},
   "outputs": [
    {
     "name": "stdout",
     "output_type": "stream",
     "text": [
      "Original: Python is a powerful and easy language\n",
      "Sorted: Python a and easy is language powerful\n"
     ]
    }
   ],
   "source": [
    "sentence = \"Python is a powerful and easy language\"\n",
    "words = sentence.split()\n",
    "words.sort()\n",
    "\n",
    "sorted_sentence = \" \".join(words)\n",
    "print(\"Original:\", sentence)\n",
    "print(\"Sorted:\", sorted_sentence)\n"
   ]
  }
 ],
 "metadata": {
  "kernelspec": {
   "display_name": "base",
   "language": "python",
   "name": "python3"
  },
  "language_info": {
   "codemirror_mode": {
    "name": "ipython",
    "version": 3
   },
   "file_extension": ".py",
   "mimetype": "text/x-python",
   "name": "python",
   "nbconvert_exporter": "python",
   "pygments_lexer": "ipython3",
   "version": "3.12.7"
  }
 },
 "nbformat": 4,
 "nbformat_minor": 5
}
