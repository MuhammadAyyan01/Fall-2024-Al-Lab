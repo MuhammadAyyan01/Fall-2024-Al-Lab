{
 "cells": [
  {
   "cell_type": "markdown",
   "id": "5421ccda",
   "metadata": {},
   "source": [
    "# fizz buzz"
   ]
  },
  {
   "cell_type": "code",
   "execution_count": null,
   "id": "5cca7a0c",
   "metadata": {},
   "outputs": [],
   "source": [
    "import random\n",
    "\n",
    "number = random.randint(1, 100)\n",
    "\n",
    "print(\"The number is:\", number)\n",
    "print(\"What is the correct FizzBuzz output?\")\n",
    "print(\"Options: 'Fizz', 'Buzz', 'Fizz Buzz', or just the number itself.\")\n",
    "\n",
    "guess = input(\"Your answer: \")\n",
    "\n",
    "if number % 3 == 0 and number % 5 == 0:\n",
    "    correct = \"Fizz Buzz\"\n",
    "elif number % 3 == 0:\n",
    "    correct = \"Fizz\"\n",
    "elif number % 5 == 0:\n",
    "    correct = \"Buzz\"\n",
    "else:\n",
    "    correct = str(number)\n",
    "\n",
    "if guess.strip() == correct:\n",
    "    print(\"Correct!\")\n",
    "else:\n",
    "    print(\"Wrong! The correct answer was:\", correct)"
   ]
  },
  {
   "cell_type": "markdown",
   "id": "795d19cc",
   "metadata": {},
   "source": [
    "# operation on movies"
   ]
  },
  {
   "cell_type": "code",
   "execution_count": null,
   "id": "0b060277",
   "metadata": {},
   "outputs": [],
   "source": [
    "movies = [\n",
    "    (\"Eternal Sunshine of the Spotless Mind\", 20000000),\n",
    "    (\"Memento\", 9000000),\n",
    "    (\"Requiem for a Dream\", 4500000),\n",
    "    (\"Pirates of the Caribbean: On Stranger Tides\", 379000000),\n",
    "    (\"Avengers: Age of Ultron\", 365000000),\n",
    "    (\"Avengers: Endgame\", 356000000),\n",
    "    (\"Incredibles 2\", 200000000)\n",
    "]\n",
    "\n",
    "extra_movies = int(input(\"How many movies do you want to add? \"))\n",
    "\n",
    "for i in range(extra_movies):\n",
    "    movie_title = input(\"Enter movie name: \")\n",
    "    movie_budget = int(input(\"Enter movie budget: \"))\n",
    "    movies.append((movie_title, movie_budget))\n",
    "\n",
    "total = 0\n",
    "for _, b in movies:\n",
    "    total += b\n",
    "avg_budget = total / len(movies)\n",
    "\n",
    "print(f\"\\nAverage budget: {avg_budget:,.0f}\")\n",
    "\n",
    "print(\"\\nMovies above average budget:\")\n",
    "above_count = 0\n",
    "for title, b in movies:\n",
    "    if b > avg_budget:\n",
    "        print(f\"{title} - {b - avg_budget:,.0f} higher than average\")\n",
    "        above_count += 1\n",
    "\n",
    "print(f\"\\nNumber of movies above average: {above_count}\")\n"
   ]
  }
 ],
 "metadata": {
  "language_info": {
   "name": "python"
  }
 },
 "nbformat": 4,
 "nbformat_minor": 5
}
